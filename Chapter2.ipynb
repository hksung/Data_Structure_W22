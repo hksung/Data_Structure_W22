{
 "cells": [
  {
   "cell_type": "markdown",
   "id": "2cc8891c",
   "metadata": {},
   "source": [
    "Insertion Sort"
   ]
  },
  {
   "cell_type": "code",
   "execution_count": 2,
   "id": "cb12a53c",
   "metadata": {},
   "outputs": [
    {
     "name": "stdout",
     "output_type": "stream",
     "text": [
      "sorted array is:\n",
      "3\n",
      "3\n",
      "4\n",
      "5\n",
      "5\n",
      "11\n",
      "12\n",
      "13\n",
      "23\n",
      "34\n",
      "35\n"
     ]
    }
   ],
   "source": [
    "def insertionSort(arr):\n",
    "\n",
    "    for i in range (1, len(arr)):\n",
    "\n",
    "        key = arr[i]\n",
    "\n",
    "        '''\n",
    "        move elements of arr[0...i-], that are\n",
    "        greater than key, to one position ahead\n",
    "        of their current position\n",
    "        '''\n",
    "\n",
    "        j = i-1\n",
    "        while j >= 0 and key < arr[j]:\n",
    "            arr[j+1] = arr[j]\n",
    "            j-=1\n",
    "            arr[j+1] = key\n",
    "\n",
    "# test\n",
    "\n",
    "arr = [12, 11, 13, 4, 3, 3, 5, 34, 35,5,23]\n",
    "insertionSort(arr)\n",
    "print (\"sorted array is:\")\n",
    "for i in range(len(arr)):\n",
    "    print(\"%d\" %arr[i])"
   ]
  },
  {
   "cell_type": "markdown",
   "id": "0c7628f0",
   "metadata": {},
   "source": [
    "### Loop Invariant \n",
    "\n",
    "the properties of A[1...j-1] formally as a loop variant\n",
    "\n",
    "At the start of each iteration of the for loop of lines 1-8,\n",
    "the subarray A[1...j-1] consists of the elements originally\n",
    "in A[1...j-1], but in sorted order\n",
    "\n",
    "use loop invariants to help us understand why an algorithm is correcrt\n",
    "\n",
    "1. initialization (i=1)\n",
    "- if i=1, j=0\n",
    "- arr[0] = the original element \n",
    "- the original element is arranged\n",
    "\t(4) therefore, before the loop iteration, the loop variant is true.\n",
    "\n",
    "2. maintenance (while repetition of the works)\n",
    "- the body of the for loop works by moving A[j-1], A[j-2], A[j-3] and so on by one position to right until it finds the proper position for A[j], at which point it inserts the value of A[j].\n",
    "- incrementing j for the next iteration of the for loop then preserves the loop invariant\n",
    "\n",
    "3. termination\n",
    "- the condition causing for the for loop to terminate is that j>A.length = n"
   ]
  },
  {
   "cell_type": "markdown",
   "id": "7fa06a72",
   "metadata": {},
   "source": [
    "### Objects (https://wikidocs.net/21719)\n",
    "\n",
    "- We typically organize compound data into 'objects', which are composed of attributes.\n",
    "- def: any data with state (attributes or value) and defined behavior (methods). also the ultimate base class of any new-style class\n",
    "\n",
    "- 객체는 어떤 속성값과 행동을 가지고 있는 데이터\n",
    "- 객체들이 가진 속성 중 상태는 value 또는 attribute라고 부름. 객체가 가진 행동들은 method라고 부름\n",
    "- 파이썬은 객체지향프로그래밍\n",
    "\n",
    "- 파이썬에서 모든 것은 객체이며, 객체는 각각 타입이 존재함.\n",
    "- 객체는 타입별로 동일한 속성과 행동을 가짐.\n",
    "- 객체는 클래스를 통해서 생성. \n",
    "- 클래스를 만든다는 것은 새로운 타입을 만든다는 것.\n",
    "- 클래스는 클래스를 통해 생성할 객체들의 속성과 행동(매소드)을 정의하는 공간이며, 객체끼리 서로 같은 타입을 가진다면, 같은 속성과 행동(매소드)를 가짐.\n",
    "\n",
    "1. type(객체)\n",
    "2. dir(객체): 객체가 가지고 있는 속성과 메소드 정보 파악\n",
    "3. help(객체)"
   ]
  }
 ],
 "metadata": {
  "kernelspec": {
   "display_name": "Python 3",
   "language": "python",
   "name": "python3"
  },
  "language_info": {
   "codemirror_mode": {
    "name": "ipython",
    "version": 3
   },
   "file_extension": ".py",
   "mimetype": "text/x-python",
   "name": "python",
   "nbconvert_exporter": "python",
   "pygments_lexer": "ipython3",
   "version": "3.8.8"
  }
 },
 "nbformat": 4,
 "nbformat_minor": 5
}
